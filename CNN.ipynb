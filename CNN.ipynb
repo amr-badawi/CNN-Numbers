{
 "cells": [
  {
   "cell_type": "code",
   "execution_count": 3,
   "metadata": {
    "scrolled": false
   },
   "outputs": [
    {
     "name": "stdout",
     "output_type": "stream",
     "text": [
      "Loading data of dataset file 0\n",
      "Loading data of dataset file 1\n",
      "Loading data of dataset file 2\n",
      "Loading data of dataset file 3\n",
      "Loading data of dataset file 4\n",
      "Loading data of dataset file 5\n",
      "Loading data of dataset file 6\n",
      "Loading data of dataset file 7\n",
      "Loading data of dataset file 8\n",
      "Loading data of dataset file 9\n",
      "All Data is loaded Successfully\n"
     ]
    }
   ],
   "source": [
    "from PIL import Image\n",
    "import numpy as np\n",
    "import glob\n",
    "\n",
    "Images= []\n",
    "Labels= []\n",
    "train_lbls=[]\n",
    "train_imgs= []\n",
    "\n",
    "#the dataset Path  \n",
    "directory = r\"#Paste the dataset Path here\\trainingSet/\"\n",
    "\n",
    "\n",
    "\n",
    "def Load_data(directory):\n",
    "    i=0\n",
    "    x=0\n",
    "    count= 0\n",
    "    #Loading images in each file 0-9 in a numoy array to be used by Keras model later \n",
    "    for i in range(10):\n",
    "        print(\"Loading data of dataset file \" + str(i))\n",
    "        #getting all image paths in each file in (fn) \n",
    "        fn=glob.glob(directory+str(i)+\"/*.jpg\")\n",
    "        for x in fn :\n",
    "            #1-opening each image from file pathes in (fn) using Image from pillow library \n",
    "            #2-appending each file 0-9 of index(i) into a numoy array\n",
    "            #3-getting the number of images in each file in (count) \n",
    "            img=Image.open(x)\n",
    "            imgs=np.array(img)\n",
    "            count+=1\n",
    "            Images.append(np.array(imgs))\n",
    "        \n",
    "        for j in range(count):\n",
    "            #using the (count and index of file(i)) to assign each image in each file to its right label\n",
    "            #appending labels of each file in array Labels \n",
    "            Labels.append(i)\n",
    "            \n",
    "        count = 0\n",
    "    #finally getting all the images in numpy array train_imgs\n",
    "    #and all labels in numpy array train_lbls\n",
    "    train_imgs=np.array(Images)\n",
    "    train_lbls=np.array(Labels)\n",
    "    print(\"All Data is loaded Successfully\")\n",
    "    return train_imgs , train_lbls\n",
    "\n",
    "\n",
    "       \n",
    "     \n",
    "train_imgs,train_lbls=Load_data(directory)\n",
    "\n",
    "#printing the shape for debugging only\n",
    "# print(train_imgs.shape)\n",
    "# print(train_lbls.shape)\n",
    "\n"
   ]
  },
  {
   "cell_type": "code",
   "execution_count": 4,
   "metadata": {},
   "outputs": [
    {
     "name": "stdout",
     "output_type": "stream",
     "text": [
      "(42000, 28, 28, 1)\n"
     ]
    }
   ],
   "source": [
    "#normalizing images to have a value from -0.5 to 0.5 instead from 0 to 255 \n",
    "#to be easy in calculations and for faster and better results \n",
    "train_imgs = (train_imgs / 255) - 0.5\n",
    "#adding a 3rd dimension to be used in keras model \n",
    "train_imgs = np.expand_dims(train_imgs,axis=3)\n",
    "\n",
    "#print for checking the 3rd dimension is added\n",
    "print(train_imgs.shape)\n",
    "\n",
    "\n",
    "    "
   ]
  },
  {
   "cell_type": "code",
   "execution_count": 5,
   "metadata": {},
   "outputs": [
    {
     "name": "stdout",
     "output_type": "stream",
     "text": [
      "Model: \"sequential\"\n",
      "_________________________________________________________________\n",
      "Layer (type)                 Output Shape              Param #   \n",
      "=================================================================\n",
      "conv2d (Conv2D)              (None, 26, 26, 8)         80        \n",
      "_________________________________________________________________\n",
      "max_pooling2d (MaxPooling2D) (None, 13, 13, 8)         0         \n",
      "_________________________________________________________________\n",
      "flatten (Flatten)            (None, 1352)              0         \n",
      "_________________________________________________________________\n",
      "dense (Dense)                (None, 10)                13530     \n",
      "=================================================================\n",
      "Total params: 13,610\n",
      "Trainable params: 13,610\n",
      "Non-trainable params: 0\n",
      "_________________________________________________________________\n",
      "Epoch 1/4\n",
      "1313/1313 [==============================] - 6s 5ms/step - loss: 0.6810A:  - ETA: 0s - loss\n",
      "Epoch 2/4\n",
      "1313/1313 [==============================] - 6s 5ms/step - loss: 0.2339\n",
      "Epoch 3/4\n",
      "1313/1313 [==============================] - 6s 5ms/step - loss: 0.1561A: 0s \n",
      "Epoch 4/4\n",
      "1313/1313 [==============================] - 6s 5ms/step - loss: 0.1179\n",
      "The First 7 images:\n"
     ]
    },
    {
     "data": {
      "image/png": "[encoded data removed]",
      "text/plain": [
       "<Figure size 432x288 with 1 Axes>"
      ]
     },
     "metadata": {
      "needs_background": "light"
     },
     "output_type": "display_data"
    },
    {
     "data": {
      "image/png": "[encoded data removed]",
      "text/plain": [
       "<Figure size 432x288 with 1 Axes>"
      ]
     },
     "metadata": {
      "needs_background": "light"
     },
     "output_type": "display_data"
    },
    {
     "data": {
      "image/png": "[encoded data removed]",
      "text/plain": [
       "<Figure size 432x288 with 1 Axes>"
      ]
     },
     "metadata": {
      "needs_background": "light"
     },
     "output_type": "display_data"
    },
    {
     "data": {
      "image/png": "[encoded data removed]",
      "text/plain": [
       "<Figure size 432x288 with 1 Axes>"
      ]
     },
     "metadata": {
      "needs_background": "light"
     },
     "output_type": "display_data"
    },
    {
     "data": {
      "image/png": "[encoded data removed]",
      "text/plain": [
       "<Figure size 432x288 with 1 Axes>"
      ]
     },
     "metadata": {
      "needs_background": "light"
     },
     "output_type": "display_data"
    },
    {
     "data": {
      "image/png": "[encoded data removed]",
      "text/plain": [
       "<Figure size 432x288 with 1 Axes>"
      ]
     },
     "metadata": {
      "needs_background": "light"
     },
     "output_type": "display_data"
    },
    {
     "data": {
      "image/png": "[encoded data removed]",
      "text/plain": [
       "<Figure size 432x288 with 1 Axes>"
      ]
     },
     "metadata": {
      "needs_background": "light"
     },
     "output_type": "display_data"
    },
    {
     "name": "stdout",
     "output_type": "stream",
     "text": [
      "First 7 True labels in the trainingSet :[0 0 0 0 0 0 0]\n",
      "First 7 Predicted image Labels    :[0 0 0 0 0 0 0]\n"
     ]
    }
   ],
   "source": [
    "import tensorflow as tf\n",
    "from tensorflow import keras \n",
    "from keras.models import Sequential\n",
    "from keras.layers import Conv2D, MaxPooling2D, Dense, Flatten \n",
    "from keras.utils import to_categorical\n",
    "import matplotlib.pyplot as plt\n",
    "import matplotlib.image as mpimg\n",
    "\n",
    "def Train(train_imgs,train_lbls):\n",
    "    #hyperparameters\n",
    "    num_filters= 8\n",
    "    filter_size= 3\n",
    "    pool_size= 2\n",
    "    #creating the model\n",
    "    model = Sequential([\n",
    "    Conv2D(num_filters, filter_size, input_shape=(28, 28, 1)),MaxPooling2D(pool_size=pool_size),\n",
    "    Flatten(),Dense(10, activation='softmax'),])\n",
    "    model.compile(loss='categorical_crossentropy',optimizer='adam',)\n",
    "    #printing the model summary to check layers are correct\n",
    "    model.summary()\n",
    "    \n",
    "    #training the model \n",
    "    #to categorical is used \n",
    "    #because keras converts the array to one hot vectors instead of int\n",
    "    model.fit(train_imgs,to_categorical(train_lbls),epochs=4,)\n",
    "    \n",
    "    #saving the model to be loaded later in the Predict function\n",
    "    #so that when we need it we don't train the model again    \n",
    "    model.save_weights('cnn.h5')\n",
    "    \n",
    "    #Prediction of first 7 images in the trainingSet vs the True trainingSet Labels\n",
    "    p = model.predict(train_imgs[:7])\n",
    "    \n",
    "    #printing the first 7 images themselves\n",
    "    print(\"The First 7 images:\")\n",
    "    fp=glob.glob(directory+\"0/*.jpg\")\n",
    "    for i in range(7):\n",
    "        img=Image.open(fp[i])\n",
    "        imgplot = plt.imshow(img, cmap=\"gray\")\n",
    "        plt.show()\n",
    "    \n",
    "    print(\"First 7 True labels in the trainingSet :\"+str(train_lbls[:7])) #first 7 images are images of 0s Label\n",
    "    print(\"First 7 Predicted image Labels    :\"+str(np.argmax(p, axis=1))) #predict should be 7 0s\n",
    "    \n",
    "    \n",
    "Train(train_imgs,train_lbls)    \n",
    "    \n",
    "    \n",
    "    "
   ]
  },
  {
   "cell_type": "code",
   "execution_count": 6,
   "metadata": {},
   "outputs": [
    {
     "name": "stdout",
     "output_type": "stream",
     "text": [
      "[6]\n"
     ]
    }
   ],
   "source": [
    "#given any image file path the function can predict the label of the image\n",
    "\n",
    "# image_path=\"Write the image path here\"\n",
    "image_path=directory+\"6/img_1704.jpg\"  #random image of number 6 \n",
    "\n",
    "def Predict(image_path):\n",
    "    \n",
    "    Pimg=[]\n",
    "    #Create the model\n",
    "    #set the hyperparameters\n",
    "    num_filters = 8\n",
    "    filter_size = 3\n",
    "    pool_size = 2\n",
    "    model = Sequential([Conv2D(num_filters, filter_size, input_shape=(28, 28, 1)),MaxPooling2D(pool_size=pool_size),\n",
    "    Flatten(),Dense(10, activation='softmax'),])\n",
    "    \n",
    "    #load the .h5 model \n",
    "    model.load_weights('cnn.h5')\n",
    "    \n",
    "    #Load Image from the file path, load in numpy array ,expand the dimensions for keras\n",
    "    \n",
    "    img=Image.open(image_path)\n",
    "    imgs=np.array(img)\n",
    "    Pimg.append(imgs)\n",
    "    Pimg=np.array(Pimg)\n",
    "    Pimg=np.expand_dims(Pimg, axis=3)\n",
    "    #predict\n",
    "    Plbl=model.predict(Pimg[:1]) \n",
    "    print(np.argmax(Plbl, axis=1)) #printed label should be 6 \n",
    "    \n",
    "  \n",
    "Predict(image_path)    \n",
    "    \n",
    "    \n",
    "    "
   ]
  },
  {
   "cell_type": "code",
   "execution_count": null,
   "metadata": {},
   "outputs": [],
   "source": []
  }
 ],
 "metadata": {
  "kernelspec": {
   "display_name": "Python 3",
   "language": "python",
   "name": "python3"
  },
  "language_info": {
   "codemirror_mode": {
    "name": "ipython",
    "version": 3
   },
   "file_extension": ".py",
   "mimetype": "text/x-python",
   "name": "python",
   "nbconvert_exporter": "python",
   "pygments_lexer": "ipython3",
   "version": "3.7.4"
  }
 },
 "nbformat": 4,
 "nbformat_minor": 4
}